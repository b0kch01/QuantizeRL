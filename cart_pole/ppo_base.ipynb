{
 "cells": [
  {
   "cell_type": "markdown",
   "metadata": {},
   "source": [
    "# PPO Base Implementation\n",
    "This will be the baseline implementation for comparing with the other methods."
   ]
  },
  {
   "cell_type": "code",
   "execution_count": 10,
   "metadata": {},
   "outputs": [],
   "source": [
    "import random\n",
    "import wandb\n",
    "\n",
    "import gym\n",
    "import numpy as np\n",
    "\n",
    "import torch\n",
    "from torch.nn import LeakyReLU, Linear, MSELoss, Sequential, Softmax\n",
    "from torch.optim import Adam\n",
    "\n",
    "import logging\n",
    "logging.basicConfig(level=logging.INFO)"
   ]
  },
  {
   "cell_type": "code",
   "execution_count": 11,
   "metadata": {},
   "outputs": [],
   "source": [
    "SEED = 1234\n",
    "LEARNING_RATE = 1e-4\n",
    "GAMMA = 0.99\n",
    "EPOCHS = 200\n",
    "CLIP_EPSILON = 0.2\n",
    "BATCH_SIZE = 15\n",
    "\n",
    "DEVICE = torch.device(\"mps\")\n",
    "TYPE = torch.float32"
   ]
  },
  {
   "cell_type": "code",
   "execution_count": 12,
   "metadata": {},
   "outputs": [],
   "source": [
    "\n",
    "torch.set_default_dtype(TYPE)\n",
    "random.seed(SEED)\n",
    "np.random.seed(SEED)\n",
    "torch.manual_seed(SEED)\n",
    "torch.backends.cpu.deterministic = True\n",
    "torch.backends.cudnn.deterministic = True\n",
    "\n",
    "class WandbLogger:\n",
    "  def __init__(self, enable=False):\n",
    "    self.enable = enable\n",
    "    \n",
    "    if enable:\n",
    "      wandb.init(\n",
    "          project=\"ppo-base\",\n",
    "\n",
    "          config={\n",
    "              \"learning_rate\": LEARNING_RATE,\n",
    "              \"gamma\": GAMMA,\n",
    "              \"epochs\": EPOCHS,\n",
    "              \"clip_epsilon\": CLIP_EPSILON,\n",
    "              \"batch_size\": BATCH_SIZE,\n",
    "              \"seed\": SEED\n",
    "          },\n",
    "      )\n",
    "\n",
    "  def log(self, **kwargs):\n",
    "    if self.enable:\n",
    "      wandb.log(kwargs)\n",
    "      \n",
    "  def finish(self):\n",
    "    if self.enable:\n",
    "      wandb.finish()\n",
    "      \n",
    "wandb = WandbLogger(enable=False)"
   ]
  },
  {
   "cell_type": "code",
   "execution_count": 13,
   "metadata": {},
   "outputs": [],
   "source": [
    "class CartPoleQuantized:\n",
    "  def __init__(self, dtype: torch.dtype, device: torch.device):\n",
    "    self.dtype = dtype\n",
    "    self.device = device\n",
    "    \n",
    "    env = gym.make('CartPole-v1', render_mode='rgb_array')\n",
    "    env = gym.wrappers.RecordVideo(env, f\"training/{dtype}/\", episode_trigger=lambda x: x % 100 == 0 and x >= 30)\n",
    "    env.reset()\n",
    "    env.start_video_recorder()\n",
    "    \n",
    "    self.env = env\n",
    "  \n",
    "  def reset(self):\n",
    "    return torch.tensor(self.env.reset()[0], dtype=self.dtype, device=self.device)\n",
    "  \n",
    "  def step(self, action):\n",
    "    state, reward, done, _, _ = self.env.step(action)\n",
    "    return torch.tensor(state, dtype=self.dtype, device=self.device), reward, done\n",
    "  \n",
    "  def close(self):\n",
    "    self.env.close()\n",
    "  \n",
    "  @staticmethod\n",
    "  def env():\n",
    "    return gym.make('CartPole-v1', render_mode='rgb_array')"
   ]
  },
  {
   "cell_type": "markdown",
   "metadata": {},
   "source": [
    "## Network Architecture"
   ]
  },
  {
   "cell_type": "markdown",
   "metadata": {},
   "source": [
    "**PolicyNetwork**:\n",
    "- Input: State\n",
    "- Output: Action distribution (0-1)\n",
    "- 2 Hidden layers with LeakyReLU activation\n",
    "\n",
    "**ValueNetwork**:\n",
    "- Input: State\n",
    "- Output: Value\n",
    "- 2 Hidden layers with LeakyReLU activation"
   ]
  },
  {
   "cell_type": "code",
   "execution_count": 14,
   "metadata": {},
   "outputs": [],
   "source": [
    "\n",
    "class PolicyNetwork(torch.nn.Module):\n",
    "  def __init__(self, input_dim, hidden_dim):\n",
    "    super().__init__()\n",
    "    self.model = Sequential(\n",
    "      Linear(input_dim, hidden_dim),\n",
    "      LeakyReLU(),\n",
    "      Linear(hidden_dim, hidden_dim),\n",
    "      LeakyReLU(),\n",
    "      Linear(hidden_dim, 2),\n",
    "      Softmax(dim=-1)\n",
    "    )\n",
    "\n",
    "  def forward(self, state):\n",
    "    return self.model(state)\n",
    " \n",
    "  def stochastic_action(self, state):\n",
    "    r\"\"\"Returns an action sampled from the policy network.\"\"\"\n",
    "    \n",
    "    probs = self.forward(state)\n",
    "    \n",
    "    if torch.isnan(probs).any():\n",
    "      print(state)\n",
    "      print(probs)\n",
    "    \n",
    "    m = torch.distributions.Categorical(probs)\n",
    "    action = m.sample()\n",
    "    return action.item(), m.log_prob(action)\n",
    "  \n",
    "  def deterministic_action(self, state):\n",
    "    r\"\"\"Returns an action with the highest probability.\"\"\"\n",
    "    \n",
    "    probs = self.forward(state)\n",
    "    action = torch.argmax(probs)\n",
    "    return action.item(), probs[0][action].item()\n",
    "\n",
    "  \n",
    "class ValueNetwork(torch.nn.Module):\n",
    "  def __init__(self, input_dim, hidden_dim) -> None:\n",
    "    super().__init__()\n",
    "    self.model = Sequential(\n",
    "      Linear(input_dim, hidden_dim),\n",
    "      LeakyReLU(),\n",
    "      Linear(hidden_dim, hidden_dim),\n",
    "      LeakyReLU(),\n",
    "      Linear(hidden_dim, 1)\n",
    "    )\n",
    "  \n",
    "  def forward(self, state):\n",
    "    return self.model(state)\n",
    "  "
   ]
  },
  {
   "cell_type": "markdown",
   "metadata": {},
   "source": [
    "# Training\n",
    "- 64 hidden nodes\n",
    "- Adam optimizer\n",
    "- MSE loss for value network"
   ]
  },
  {
   "cell_type": "code",
   "execution_count": 15,
   "metadata": {},
   "outputs": [],
   "source": [
    "_observation_size = CartPoleQuantized.env().observation_space.shape[0]\n",
    "\n",
    "policy_net = PolicyNetwork(_observation_size, 64).to(DEVICE)\n",
    "value_net  = ValueNetwork(_observation_size, 64).to(DEVICE)\n",
    "\n",
    "policy_optimizer = Adam(policy_net.parameters(), lr=LEARNING_RATE)\n",
    "value_optimizer  = Adam(value_net.parameters(), lr=LEARNING_RATE)\n",
    "\n",
    "criterion = MSELoss()"
   ]
  },
  {
   "cell_type": "code",
   "execution_count": 16,
   "metadata": {},
   "outputs": [],
   "source": [
    "def compute_returns(rewards):\n",
    "  returns = torch.zeros(len(rewards))\n",
    "  R = 0\n",
    "  for i in reversed(range(len(rewards))):\n",
    "    R = rewards[i] + GAMMA * R\n",
    "    returns[i] = R\n",
    "  return returns"
   ]
  },
  {
   "cell_type": "code",
   "execution_count": 17,
   "metadata": {},
   "outputs": [],
   "source": [
    "def ppo_step(env: CartPoleQuantized):\n",
    "    state = env.reset()\n",
    "    \n",
    "    # capture entire episode\n",
    "    done, steps = False, 0\n",
    "    states, actions, log_probs_old, rewards = [], [], [], []\n",
    "    \n",
    "    while not done:\n",
    "        action, log_prob = policy_net.stochastic_action(state)\n",
    "        next_state, reward, done = env.step(action)\n",
    "\n",
    "        log_probs_old.append(log_prob)\n",
    "        states.append(state)\n",
    "        actions.append(action)\n",
    "        rewards.append(reward)\n",
    "\n",
    "        state = next_state\n",
    "        steps += 1\n",
    "    \n",
    "    # Convert to tensors\n",
    "    # Be sure to detach() the tensors from the graph as these are \"constants\"\n",
    "    states = torch.stack(states).detach().to(DEVICE)\n",
    "    actions = torch.tensor(actions).detach().to(DEVICE)\n",
    "    log_probs_old = torch.stack(log_probs_old).detach().to(DEVICE)\n",
    "    \n",
    "    returns = compute_returns(rewards).detach().to(DEVICE)\n",
    "    \n",
    "    values = value_net(states)\n",
    "    advantages = (returns - values.squeeze()).detach().to(DEVICE)\n",
    "\n",
    "    for _ in range(EPOCHS):\n",
    "        for i in range(0, len(states), BATCH_SIZE):\n",
    "            # Grab a batch of data\n",
    "            batch_states = states[i:i+BATCH_SIZE]\n",
    "            batch_actions = actions[i:i+BATCH_SIZE]\n",
    "            batch_log_probs_old = log_probs_old[i:i+BATCH_SIZE]\n",
    "            batch_advantages = advantages[i:i+BATCH_SIZE]\n",
    "            batch_returns = returns[i:i+BATCH_SIZE]\n",
    "\n",
    "            # Calculate new log probabilities\n",
    "            new_action_probs = policy_net(batch_states)\n",
    "            new_log_probs = torch.log(new_action_probs.gather(1, batch_actions.unsqueeze(-1)))\n",
    "\n",
    "            # rho is the ratio between new and old log probabilities\n",
    "            ratio = (new_log_probs - batch_log_probs_old).exp()\n",
    "\n",
    "            # Calculate surrogate loss\n",
    "            surrogate_loss = ratio * batch_advantages\n",
    "            clipped_surrogate_loss = torch.clamp(ratio, 1-CLIP_EPSILON, 1+CLIP_EPSILON) * batch_advantages\n",
    "            policy_loss = -torch.min(surrogate_loss, clipped_surrogate_loss).mean()\n",
    "\n",
    "            policy_optimizer.zero_grad()\n",
    "            policy_loss.backward()\n",
    "            policy_optimizer.step()\n",
    "            \n",
    "            value_loss = torch.pow(value_net(batch_states) - batch_returns.unsqueeze(-1), 2).mean()\n",
    "\n",
    "            value_optimizer.zero_grad()\n",
    "            value_loss.backward()\n",
    "            value_optimizer.step()\n",
    "            \n",
    "    return (returns.mean(), returns.std(), steps)"
   ]
  },
  {
   "cell_type": "code",
   "execution_count": 18,
   "metadata": {},
   "outputs": [
    {
     "name": "stderr",
     "output_type": "stream",
     "text": [
      "/Users/b0kch01/miniconda3/envs/pytorch-m1/lib/python3.10/site-packages/gym/wrappers/record_video.py:75: UserWarning: \u001b[33mWARN: Overwriting existing videos at /Users/b0kch01/Documents/Code/QuantizeRL/cart_pole/training/torch.float32 folder (try specifying a different `video_folder` for the `RecordVideo` wrapper if this is not desired)\u001b[0m\n",
      "  logger.warn(\n"
     ]
    },
    {
     "name": "stdout",
     "output_type": "stream",
     "text": [
      "Moviepy - Building video /Users/b0kch01/Documents/Code/QuantizeRL/cart_pole/training/torch.float32/rl-video-episode-0.mp4.\n",
      "Moviepy - Writing video /Users/b0kch01/Documents/Code/QuantizeRL/cart_pole/training/torch.float32/rl-video-episode-0.mp4\n",
      "\n"
     ]
    },
    {
     "name": "stderr",
     "output_type": "stream",
     "text": [
      "                                                   "
     ]
    },
    {
     "name": "stdout",
     "output_type": "stream",
     "text": [
      "Moviepy - Done !\n",
      "Moviepy - video ready /Users/b0kch01/Documents/Code/QuantizeRL/cart_pole/training/torch.float32/rl-video-episode-0.mp4\n"
     ]
    },
    {
     "name": "stderr",
     "output_type": "stream",
     "text": [
      "\r"
     ]
    },
    {
     "name": "stdout",
     "output_type": "stream",
     "text": [
      "Episode 0\tSteps: 11\tReturn: 11\n",
      "Episode 5\tSteps: 100\tReturn: 100\n",
      "Episode 10\tSteps: 33\tReturn: 33\n",
      "Episode 15\tSteps: 23\tReturn: 23\n",
      "Episode 20\tSteps: 31\tReturn: 31\n",
      "Episode 25\tSteps: 11\tReturn: 11\n",
      "Episode 30\tSteps: 8\tReturn: 8\n",
      "Episode 35\tSteps: 312\tReturn: 312\n",
      "Episode 40\tSteps: 36\tReturn: 36\n",
      "Episode 45\tSteps: 15\tReturn: 15\n",
      "Episode 50\tSteps: 19\tReturn: 19\n",
      "Episode 55\tSteps: 71\tReturn: 71\n",
      "Episode 60\tSteps: 15\tReturn: 15\n",
      "Episode 65\tSteps: 28\tReturn: 28\n",
      "Episode 70\tSteps: 22\tReturn: 22\n",
      "Episode 75\tSteps: 37\tReturn: 37\n",
      "Episode 80\tSteps: 35\tReturn: 35\n",
      "Episode 85\tSteps: 58\tReturn: 58\n",
      "Episode 90\tSteps: 39\tReturn: 39\n",
      "Episode 95\tSteps: 15\tReturn: 15\n",
      "Moviepy - Building video /Users/b0kch01/Documents/Code/QuantizeRL/cart_pole/training/torch.float32/rl-video-episode-100.mp4.\n",
      "Moviepy - Writing video /Users/b0kch01/Documents/Code/QuantizeRL/cart_pole/training/torch.float32/rl-video-episode-100.mp4\n",
      "\n"
     ]
    },
    {
     "name": "stderr",
     "output_type": "stream",
     "text": [
      "                                                             "
     ]
    },
    {
     "name": "stdout",
     "output_type": "stream",
     "text": [
      "Moviepy - Done !\n",
      "Moviepy - video ready /Users/b0kch01/Documents/Code/QuantizeRL/cart_pole/training/torch.float32/rl-video-episode-100.mp4\n"
     ]
    },
    {
     "name": "stderr",
     "output_type": "stream",
     "text": [
      "\r"
     ]
    },
    {
     "name": "stdout",
     "output_type": "stream",
     "text": [
      "Episode 100\tSteps: 64\tReturn: 64\n",
      "Episode 105\tSteps: 10\tReturn: 10\n",
      "Episode 110\tSteps: 10\tReturn: 10\n",
      "Episode 115\tSteps: 9\tReturn: 9\n",
      "Episode 120\tSteps: 10\tReturn: 10\n",
      "Episode 125\tSteps: 9\tReturn: 9\n",
      "Episode 130\tSteps: 8\tReturn: 8\n",
      "Episode 135\tSteps: 29\tReturn: 29\n",
      "Episode 140\tSteps: 32\tReturn: 32\n",
      "Episode 145\tSteps: 37\tReturn: 37\n",
      "Episode 150\tSteps: 15\tReturn: 15\n",
      "Episode 155\tSteps: 10\tReturn: 10\n",
      "Episode 160\tSteps: 8\tReturn: 8\n",
      "Episode 165\tSteps: 9\tReturn: 9\n",
      "Episode 170\tSteps: 9\tReturn: 9\n",
      "Episode 175\tSteps: 10\tReturn: 10\n",
      "Episode 180\tSteps: 9\tReturn: 9\n",
      "Episode 185\tSteps: 9\tReturn: 9\n",
      "Episode 190\tSteps: 8\tReturn: 8\n",
      "Episode 195\tSteps: 10\tReturn: 10\n",
      "Moviepy - Building video /Users/b0kch01/Documents/Code/QuantizeRL/cart_pole/training/torch.float32/rl-video-episode-200.mp4.\n",
      "Moviepy - Writing video /Users/b0kch01/Documents/Code/QuantizeRL/cart_pole/training/torch.float32/rl-video-episode-200.mp4\n",
      "\n"
     ]
    },
    {
     "name": "stderr",
     "output_type": "stream",
     "text": [
      "                                                   "
     ]
    },
    {
     "name": "stdout",
     "output_type": "stream",
     "text": [
      "Moviepy - Done !\n",
      "Moviepy - video ready /Users/b0kch01/Documents/Code/QuantizeRL/cart_pole/training/torch.float32/rl-video-episode-200.mp4\n"
     ]
    },
    {
     "name": "stderr",
     "output_type": "stream",
     "text": [
      "\r"
     ]
    },
    {
     "name": "stdout",
     "output_type": "stream",
     "text": [
      "Episode 200\tSteps: 21\tReturn: 21\n",
      "Episode 205\tSteps: 12\tReturn: 12\n",
      "Episode 210\tSteps: 14\tReturn: 14\n",
      "Episode 215\tSteps: 10\tReturn: 10\n",
      "Episode 220\tSteps: 10\tReturn: 10\n",
      "Episode 225\tSteps: 9\tReturn: 9\n",
      "Episode 230\tSteps: 75\tReturn: 75\n",
      "Episode 235\tSteps: 13\tReturn: 13\n",
      "Episode 240\tSteps: 130\tReturn: 130\n",
      "Episode 245\tSteps: 42\tReturn: 42\n",
      "Episode 250\tSteps: 24\tReturn: 24\n",
      "Episode 255\tSteps: 20\tReturn: 20\n",
      "Episode 260\tSteps: 97\tReturn: 97\n",
      "Episode 265\tSteps: 16\tReturn: 16\n",
      "Episode 270\tSteps: 44\tReturn: 44\n",
      "Episode 275\tSteps: 9\tReturn: 9\n",
      "Episode 280\tSteps: 79\tReturn: 79\n",
      "Episode 285\tSteps: 29\tReturn: 29\n",
      "Episode 290\tSteps: 97\tReturn: 97\n",
      "Episode 295\tSteps: 10\tReturn: 10\n",
      "Moviepy - Building video /Users/b0kch01/Documents/Code/QuantizeRL/cart_pole/training/torch.float32/rl-video-episode-300.mp4.\n",
      "Moviepy - Writing video /Users/b0kch01/Documents/Code/QuantizeRL/cart_pole/training/torch.float32/rl-video-episode-300.mp4\n",
      "\n"
     ]
    },
    {
     "name": "stderr",
     "output_type": "stream",
     "text": [
      "                                                  "
     ]
    },
    {
     "name": "stdout",
     "output_type": "stream",
     "text": [
      "Moviepy - Done !\n",
      "Moviepy - video ready /Users/b0kch01/Documents/Code/QuantizeRL/cart_pole/training/torch.float32/rl-video-episode-300.mp4\n"
     ]
    },
    {
     "name": "stderr",
     "output_type": "stream",
     "text": [
      "\r"
     ]
    }
   ],
   "source": [
    "env = CartPoleQuantized(TYPE, DEVICE)\n",
    "\n",
    "for i in range(300):\n",
    "  _, _, steps = ppo_step(env)\n",
    "  if i % 5 == 0:\n",
    "    print(f\"Episode {i}\\tSteps: {steps}\\tReturn: {steps}\")\n",
    "  \n",
    "env.close()\n",
    "wandb.finish()"
   ]
  },
  {
   "cell_type": "code",
   "execution_count": 19,
   "metadata": {},
   "outputs": [],
   "source": [
    "def record_best_effort():\n",
    "  env = gym.make('CartPole-v1', render_mode='rgb_array', max_episode_steps=10000)\n",
    "  env = gym.wrappers.RecordVideo(env, \"tests\")\n",
    "\n",
    "  state, _ = env.reset()\n",
    "  env.start_video_recorder()\n",
    "\n",
    "  total_reward = 0\n",
    "  done, i = False, 0\n",
    "  \n",
    "  while not done and i < 10000:\n",
    "    action, _ = policy_net.deterministic_action(state)\n",
    "    state, reward, done, *_ = env.step(action)\n",
    "    total_reward += reward\n",
    "    i += 1\n",
    "\n",
    "  env.close()"
   ]
  },
  {
   "cell_type": "code",
   "execution_count": 20,
   "metadata": {},
   "outputs": [
    {
     "name": "stderr",
     "output_type": "stream",
     "text": [
      "/Users/b0kch01/miniconda3/envs/pytorch-m1/lib/python3.10/site-packages/gym/wrappers/record_video.py:75: UserWarning: \u001b[33mWARN: Overwriting existing videos at /Users/b0kch01/Documents/Code/QuantizeRL/cart_pole/tests folder (try specifying a different `video_folder` for the `RecordVideo` wrapper if this is not desired)\u001b[0m\n",
      "  logger.warn(\n"
     ]
    },
    {
     "name": "stdout",
     "output_type": "stream",
     "text": [
      "Moviepy - Building video /Users/b0kch01/Documents/Code/QuantizeRL/cart_pole/tests/rl-video-episode-0.mp4.\n",
      "Moviepy - Writing video /Users/b0kch01/Documents/Code/QuantizeRL/cart_pole/tests/rl-video-episode-0.mp4\n",
      "\n"
     ]
    },
    {
     "name": "stderr",
     "output_type": "stream",
     "text": [
      "                                                  "
     ]
    },
    {
     "name": "stdout",
     "output_type": "stream",
     "text": [
      "Moviepy - Done !\n",
      "Moviepy - video ready /Users/b0kch01/Documents/Code/QuantizeRL/cart_pole/tests/rl-video-episode-0.mp4\n"
     ]
    },
    {
     "name": "stderr",
     "output_type": "stream",
     "text": [
      "\r"
     ]
    },
    {
     "ename": "TypeError",
     "evalue": "linear(): argument 'input' (position 1) must be Tensor, not numpy.ndarray",
     "output_type": "error",
     "traceback": [
      "\u001b[0;31m---------------------------------------------------------------------------\u001b[0m",
      "\u001b[0;31mTypeError\u001b[0m                                 Traceback (most recent call last)",
      "\u001b[1;32m/Users/b0kch01/Documents/Code/QuantizeRL/cart_pole/ppo_base.ipynb Cell 15\u001b[0m line \u001b[0;36m1\n\u001b[0;32m----> <a href='vscode-notebook-cell:/Users/b0kch01/Documents/Code/QuantizeRL/cart_pole/ppo_base.ipynb#X16sZmlsZQ%3D%3D?line=0'>1</a>\u001b[0m record_best_effort()\n",
      "\u001b[1;32m/Users/b0kch01/Documents/Code/QuantizeRL/cart_pole/ppo_base.ipynb Cell 15\u001b[0m line \u001b[0;36m1\n\u001b[1;32m      <a href='vscode-notebook-cell:/Users/b0kch01/Documents/Code/QuantizeRL/cart_pole/ppo_base.ipynb#X16sZmlsZQ%3D%3D?line=8'>9</a>\u001b[0m done, i \u001b[39m=\u001b[39m \u001b[39mFalse\u001b[39;00m, \u001b[39m0\u001b[39m\n\u001b[1;32m     <a href='vscode-notebook-cell:/Users/b0kch01/Documents/Code/QuantizeRL/cart_pole/ppo_base.ipynb#X16sZmlsZQ%3D%3D?line=10'>11</a>\u001b[0m \u001b[39mwhile\u001b[39;00m \u001b[39mnot\u001b[39;00m done \u001b[39mand\u001b[39;00m i \u001b[39m<\u001b[39m \u001b[39m10000\u001b[39m:\n\u001b[0;32m---> <a href='vscode-notebook-cell:/Users/b0kch01/Documents/Code/QuantizeRL/cart_pole/ppo_base.ipynb#X16sZmlsZQ%3D%3D?line=11'>12</a>\u001b[0m   action, _ \u001b[39m=\u001b[39m policy_net\u001b[39m.\u001b[39;49mdeterministic_action(state)\n\u001b[1;32m     <a href='vscode-notebook-cell:/Users/b0kch01/Documents/Code/QuantizeRL/cart_pole/ppo_base.ipynb#X16sZmlsZQ%3D%3D?line=12'>13</a>\u001b[0m   state, reward, done, \u001b[39m*\u001b[39m_ \u001b[39m=\u001b[39m env\u001b[39m.\u001b[39mstep(action)\n\u001b[1;32m     <a href='vscode-notebook-cell:/Users/b0kch01/Documents/Code/QuantizeRL/cart_pole/ppo_base.ipynb#X16sZmlsZQ%3D%3D?line=13'>14</a>\u001b[0m   total_reward \u001b[39m+\u001b[39m\u001b[39m=\u001b[39m reward\n",
      "\u001b[1;32m/Users/b0kch01/Documents/Code/QuantizeRL/cart_pole/ppo_base.ipynb Cell 15\u001b[0m line \u001b[0;36m3\n\u001b[1;32m     <a href='vscode-notebook-cell:/Users/b0kch01/Documents/Code/QuantizeRL/cart_pole/ppo_base.ipynb#X16sZmlsZQ%3D%3D?line=28'>29</a>\u001b[0m \u001b[39mdef\u001b[39;00m \u001b[39mdeterministic_action\u001b[39m(\u001b[39mself\u001b[39m, state):\n\u001b[1;32m     <a href='vscode-notebook-cell:/Users/b0kch01/Documents/Code/QuantizeRL/cart_pole/ppo_base.ipynb#X16sZmlsZQ%3D%3D?line=29'>30</a>\u001b[0m \u001b[39m  \u001b[39m\u001b[39mr\u001b[39m\u001b[39m\"\"\"Returns an action with the highest probability.\"\"\"\u001b[39;00m\n\u001b[0;32m---> <a href='vscode-notebook-cell:/Users/b0kch01/Documents/Code/QuantizeRL/cart_pole/ppo_base.ipynb#X16sZmlsZQ%3D%3D?line=31'>32</a>\u001b[0m   probs \u001b[39m=\u001b[39m \u001b[39mself\u001b[39;49m\u001b[39m.\u001b[39;49mforward(state)\n\u001b[1;32m     <a href='vscode-notebook-cell:/Users/b0kch01/Documents/Code/QuantizeRL/cart_pole/ppo_base.ipynb#X16sZmlsZQ%3D%3D?line=32'>33</a>\u001b[0m   action \u001b[39m=\u001b[39m torch\u001b[39m.\u001b[39margmax(probs)\n\u001b[1;32m     <a href='vscode-notebook-cell:/Users/b0kch01/Documents/Code/QuantizeRL/cart_pole/ppo_base.ipynb#X16sZmlsZQ%3D%3D?line=33'>34</a>\u001b[0m   \u001b[39mreturn\u001b[39;00m action\u001b[39m.\u001b[39mitem(), probs[\u001b[39m0\u001b[39m][action]\u001b[39m.\u001b[39mitem()\n",
      "\u001b[1;32m/Users/b0kch01/Documents/Code/QuantizeRL/cart_pole/ppo_base.ipynb Cell 15\u001b[0m line \u001b[0;36m1\n\u001b[1;32m     <a href='vscode-notebook-cell:/Users/b0kch01/Documents/Code/QuantizeRL/cart_pole/ppo_base.ipynb#X16sZmlsZQ%3D%3D?line=12'>13</a>\u001b[0m \u001b[39mdef\u001b[39;00m \u001b[39mforward\u001b[39m(\u001b[39mself\u001b[39m, state):\n\u001b[0;32m---> <a href='vscode-notebook-cell:/Users/b0kch01/Documents/Code/QuantizeRL/cart_pole/ppo_base.ipynb#X16sZmlsZQ%3D%3D?line=13'>14</a>\u001b[0m   \u001b[39mreturn\u001b[39;00m \u001b[39mself\u001b[39;49m\u001b[39m.\u001b[39;49mmodel(state)\n",
      "File \u001b[0;32m~/miniconda3/envs/pytorch-m1/lib/python3.10/site-packages/torch/nn/modules/module.py:1518\u001b[0m, in \u001b[0;36mModule._wrapped_call_impl\u001b[0;34m(self, *args, **kwargs)\u001b[0m\n\u001b[1;32m   1516\u001b[0m     \u001b[39mreturn\u001b[39;00m \u001b[39mself\u001b[39m\u001b[39m.\u001b[39m_compiled_call_impl(\u001b[39m*\u001b[39margs, \u001b[39m*\u001b[39m\u001b[39m*\u001b[39mkwargs)  \u001b[39m# type: ignore[misc]\u001b[39;00m\n\u001b[1;32m   1517\u001b[0m \u001b[39melse\u001b[39;00m:\n\u001b[0;32m-> 1518\u001b[0m     \u001b[39mreturn\u001b[39;00m \u001b[39mself\u001b[39;49m\u001b[39m.\u001b[39;49m_call_impl(\u001b[39m*\u001b[39;49margs, \u001b[39m*\u001b[39;49m\u001b[39m*\u001b[39;49mkwargs)\n",
      "File \u001b[0;32m~/miniconda3/envs/pytorch-m1/lib/python3.10/site-packages/torch/nn/modules/module.py:1527\u001b[0m, in \u001b[0;36mModule._call_impl\u001b[0;34m(self, *args, **kwargs)\u001b[0m\n\u001b[1;32m   1522\u001b[0m \u001b[39m# If we don't have any hooks, we want to skip the rest of the logic in\u001b[39;00m\n\u001b[1;32m   1523\u001b[0m \u001b[39m# this function, and just call forward.\u001b[39;00m\n\u001b[1;32m   1524\u001b[0m \u001b[39mif\u001b[39;00m \u001b[39mnot\u001b[39;00m (\u001b[39mself\u001b[39m\u001b[39m.\u001b[39m_backward_hooks \u001b[39mor\u001b[39;00m \u001b[39mself\u001b[39m\u001b[39m.\u001b[39m_backward_pre_hooks \u001b[39mor\u001b[39;00m \u001b[39mself\u001b[39m\u001b[39m.\u001b[39m_forward_hooks \u001b[39mor\u001b[39;00m \u001b[39mself\u001b[39m\u001b[39m.\u001b[39m_forward_pre_hooks\n\u001b[1;32m   1525\u001b[0m         \u001b[39mor\u001b[39;00m _global_backward_pre_hooks \u001b[39mor\u001b[39;00m _global_backward_hooks\n\u001b[1;32m   1526\u001b[0m         \u001b[39mor\u001b[39;00m _global_forward_hooks \u001b[39mor\u001b[39;00m _global_forward_pre_hooks):\n\u001b[0;32m-> 1527\u001b[0m     \u001b[39mreturn\u001b[39;00m forward_call(\u001b[39m*\u001b[39;49margs, \u001b[39m*\u001b[39;49m\u001b[39m*\u001b[39;49mkwargs)\n\u001b[1;32m   1529\u001b[0m \u001b[39mtry\u001b[39;00m:\n\u001b[1;32m   1530\u001b[0m     result \u001b[39m=\u001b[39m \u001b[39mNone\u001b[39;00m\n",
      "File \u001b[0;32m~/miniconda3/envs/pytorch-m1/lib/python3.10/site-packages/torch/nn/modules/container.py:215\u001b[0m, in \u001b[0;36mSequential.forward\u001b[0;34m(self, input)\u001b[0m\n\u001b[1;32m    213\u001b[0m \u001b[39mdef\u001b[39;00m \u001b[39mforward\u001b[39m(\u001b[39mself\u001b[39m, \u001b[39minput\u001b[39m):\n\u001b[1;32m    214\u001b[0m     \u001b[39mfor\u001b[39;00m module \u001b[39min\u001b[39;00m \u001b[39mself\u001b[39m:\n\u001b[0;32m--> 215\u001b[0m         \u001b[39minput\u001b[39m \u001b[39m=\u001b[39m module(\u001b[39minput\u001b[39;49m)\n\u001b[1;32m    216\u001b[0m     \u001b[39mreturn\u001b[39;00m \u001b[39minput\u001b[39m\n",
      "File \u001b[0;32m~/miniconda3/envs/pytorch-m1/lib/python3.10/site-packages/torch/nn/modules/module.py:1518\u001b[0m, in \u001b[0;36mModule._wrapped_call_impl\u001b[0;34m(self, *args, **kwargs)\u001b[0m\n\u001b[1;32m   1516\u001b[0m     \u001b[39mreturn\u001b[39;00m \u001b[39mself\u001b[39m\u001b[39m.\u001b[39m_compiled_call_impl(\u001b[39m*\u001b[39margs, \u001b[39m*\u001b[39m\u001b[39m*\u001b[39mkwargs)  \u001b[39m# type: ignore[misc]\u001b[39;00m\n\u001b[1;32m   1517\u001b[0m \u001b[39melse\u001b[39;00m:\n\u001b[0;32m-> 1518\u001b[0m     \u001b[39mreturn\u001b[39;00m \u001b[39mself\u001b[39;49m\u001b[39m.\u001b[39;49m_call_impl(\u001b[39m*\u001b[39;49margs, \u001b[39m*\u001b[39;49m\u001b[39m*\u001b[39;49mkwargs)\n",
      "File \u001b[0;32m~/miniconda3/envs/pytorch-m1/lib/python3.10/site-packages/torch/nn/modules/module.py:1527\u001b[0m, in \u001b[0;36mModule._call_impl\u001b[0;34m(self, *args, **kwargs)\u001b[0m\n\u001b[1;32m   1522\u001b[0m \u001b[39m# If we don't have any hooks, we want to skip the rest of the logic in\u001b[39;00m\n\u001b[1;32m   1523\u001b[0m \u001b[39m# this function, and just call forward.\u001b[39;00m\n\u001b[1;32m   1524\u001b[0m \u001b[39mif\u001b[39;00m \u001b[39mnot\u001b[39;00m (\u001b[39mself\u001b[39m\u001b[39m.\u001b[39m_backward_hooks \u001b[39mor\u001b[39;00m \u001b[39mself\u001b[39m\u001b[39m.\u001b[39m_backward_pre_hooks \u001b[39mor\u001b[39;00m \u001b[39mself\u001b[39m\u001b[39m.\u001b[39m_forward_hooks \u001b[39mor\u001b[39;00m \u001b[39mself\u001b[39m\u001b[39m.\u001b[39m_forward_pre_hooks\n\u001b[1;32m   1525\u001b[0m         \u001b[39mor\u001b[39;00m _global_backward_pre_hooks \u001b[39mor\u001b[39;00m _global_backward_hooks\n\u001b[1;32m   1526\u001b[0m         \u001b[39mor\u001b[39;00m _global_forward_hooks \u001b[39mor\u001b[39;00m _global_forward_pre_hooks):\n\u001b[0;32m-> 1527\u001b[0m     \u001b[39mreturn\u001b[39;00m forward_call(\u001b[39m*\u001b[39;49margs, \u001b[39m*\u001b[39;49m\u001b[39m*\u001b[39;49mkwargs)\n\u001b[1;32m   1529\u001b[0m \u001b[39mtry\u001b[39;00m:\n\u001b[1;32m   1530\u001b[0m     result \u001b[39m=\u001b[39m \u001b[39mNone\u001b[39;00m\n",
      "File \u001b[0;32m~/miniconda3/envs/pytorch-m1/lib/python3.10/site-packages/torch/nn/modules/linear.py:114\u001b[0m, in \u001b[0;36mLinear.forward\u001b[0;34m(self, input)\u001b[0m\n\u001b[1;32m    113\u001b[0m \u001b[39mdef\u001b[39;00m \u001b[39mforward\u001b[39m(\u001b[39mself\u001b[39m, \u001b[39minput\u001b[39m: Tensor) \u001b[39m-\u001b[39m\u001b[39m>\u001b[39m Tensor:\n\u001b[0;32m--> 114\u001b[0m     \u001b[39mreturn\u001b[39;00m F\u001b[39m.\u001b[39;49mlinear(\u001b[39minput\u001b[39;49m, \u001b[39mself\u001b[39;49m\u001b[39m.\u001b[39;49mweight, \u001b[39mself\u001b[39;49m\u001b[39m.\u001b[39;49mbias)\n",
      "\u001b[0;31mTypeError\u001b[0m: linear(): argument 'input' (position 1) must be Tensor, not numpy.ndarray"
     ]
    },
    {
     "ename": "",
     "evalue": "",
     "output_type": "error",
     "traceback": [
      "\u001b[1;31mThe Kernel crashed while executing code in the the current cell or a previous cell. Please review the code in the cell(s) to identify a possible cause of the failure. Click <a href='https://aka.ms/vscodeJupyterKernelCrash'>here</a> for more info. View Jupyter <a href='command:jupyter.viewOutput'>log</a> for further details."
     ]
    }
   ],
   "source": [
    "record_best_effort()"
   ]
  }
 ],
 "metadata": {
  "kernelspec": {
   "display_name": "pytorch-m1",
   "language": "python",
   "name": "python3"
  },
  "language_info": {
   "codemirror_mode": {
    "name": "ipython",
    "version": 3
   },
   "file_extension": ".py",
   "mimetype": "text/x-python",
   "name": "python",
   "nbconvert_exporter": "python",
   "pygments_lexer": "ipython3",
   "version": "3.10.9"
  }
 },
 "nbformat": 4,
 "nbformat_minor": 2
}
